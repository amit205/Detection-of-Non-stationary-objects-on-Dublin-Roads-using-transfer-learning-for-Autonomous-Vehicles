{
 "cells": [
  {
   "cell_type": "code",
   "execution_count": 1,
   "metadata": {},
   "outputs": [
    {
     "name": "stdout",
     "output_type": "stream",
     "text": [
      "/home/amit_domainer_gmail_com/models/research/object_detection\r\n"
     ]
    }
   ],
   "source": [
    "!pwd"
   ]
  },
  {
   "cell_type": "code",
   "execution_count": 7,
   "metadata": {},
   "outputs": [
    {
     "name": "stdout",
     "output_type": "stream",
     "text": [
      "/home/amit_domainer_gmail_com/.local/lib/python3.5/site-packages/tensorboard/compat/tensorflow_stub/dtypes.py:541: FutureWarning: Passing (type, 1) or '1type' as a synonym of type is deprecated; in a future version of numpy, it will be understood as (type, (1,)) / '(1,)type'.\n",
      "  _np_qint8 = np.dtype([(\"qint8\", np.int8, 1)])\n",
      "/home/amit_domainer_gmail_com/.local/lib/python3.5/site-packages/tensorboard/compat/tensorflow_stub/dtypes.py:542: FutureWarning: Passing (type, 1) or '1type' as a synonym of type is deprecated; in a future version of numpy, it will be understood as (type, (1,)) / '(1,)type'.\n",
      "  _np_quint8 = np.dtype([(\"quint8\", np.uint8, 1)])\n",
      "/home/amit_domainer_gmail_com/.local/lib/python3.5/site-packages/tensorboard/compat/tensorflow_stub/dtypes.py:543: FutureWarning: Passing (type, 1) or '1type' as a synonym of type is deprecated; in a future version of numpy, it will be understood as (type, (1,)) / '(1,)type'.\n",
      "  _np_qint16 = np.dtype([(\"qint16\", np.int16, 1)])\n",
      "/home/amit_domainer_gmail_com/.local/lib/python3.5/site-packages/tensorboard/compat/tensorflow_stub/dtypes.py:544: FutureWarning: Passing (type, 1) or '1type' as a synonym of type is deprecated; in a future version of numpy, it will be understood as (type, (1,)) / '(1,)type'.\n",
      "  _np_quint16 = np.dtype([(\"quint16\", np.uint16, 1)])\n",
      "/home/amit_domainer_gmail_com/.local/lib/python3.5/site-packages/tensorboard/compat/tensorflow_stub/dtypes.py:545: FutureWarning: Passing (type, 1) or '1type' as a synonym of type is deprecated; in a future version of numpy, it will be understood as (type, (1,)) / '(1,)type'.\n",
      "  _np_qint32 = np.dtype([(\"qint32\", np.int32, 1)])\n",
      "/home/amit_domainer_gmail_com/.local/lib/python3.5/site-packages/tensorboard/compat/tensorflow_stub/dtypes.py:550: FutureWarning: Passing (type, 1) or '1type' as a synonym of type is deprecated; in a future version of numpy, it will be understood as (type, (1,)) / '(1,)type'.\n",
      "  np_resource = np.dtype([(\"resource\", np.ubyte, 1)])\n",
      "W1219 18:13:02.206405 140130546358016 plugin_event_accumulator.py:294] Found more than one graph event per run, or there was a metagraph containing a graph_def, as well as one or more graph events.  Overwriting the graph with the newest event.\n",
      "W1219 18:13:02.220370 140130546358016 plugin_event_accumulator.py:302] Found more than one metagraph event per run. Overwriting the metagraph with the newest event.\n",
      "W1219 18:13:02.249491 140130546358016 plugin_event_accumulator.py:294] Found more than one graph event per run, or there was a metagraph containing a graph_def, as well as one or more graph events.  Overwriting the graph with the newest event.\n",
      "W1219 18:13:02.270725 140130546358016 plugin_event_accumulator.py:302] Found more than one metagraph event per run. Overwriting the metagraph with the newest event.\n",
      "W1219 18:13:02.291669 140130546358016 plugin_event_accumulator.py:294] Found more than one graph event per run, or there was a metagraph containing a graph_def, as well as one or more graph events.  Overwriting the graph with the newest event.\n",
      "W1219 18:13:02.312395 140130546358016 plugin_event_accumulator.py:294] Found more than one graph event per run, or there was a metagraph containing a graph_def, as well as one or more graph events.  Overwriting the graph with the newest event.\n",
      "W1219 18:13:02.344944 140130546358016 plugin_event_accumulator.py:294] Found more than one graph event per run, or there was a metagraph containing a graph_def, as well as one or more graph events.  Overwriting the graph with the newest event.\n",
      "TensorBoard 1.14.0 at http://instance-1:6006/ (Press CTRL+C to quit)\n",
      "W1219 18:13:02.378343 140130546358016 plugin_event_accumulator.py:294] Found more than one graph event per run, or there was a metagraph containing a graph_def, as well as one or more graph events.  Overwriting the graph with the newest event.\n",
      "W1219 18:13:02.392760 140130546358016 plugin_event_accumulator.py:302] Found more than one metagraph event per run. Overwriting the metagraph with the newest event.\n",
      "W1219 18:13:02.407357 140130546358016 plugin_event_accumulator.py:294] Found more than one graph event per run, or there was a metagraph containing a graph_def, as well as one or more graph events.  Overwriting the graph with the newest event.\n",
      "W1219 18:13:02.417966 140130546358016 plugin_event_accumulator.py:302] Found more than one metagraph event per run. Overwriting the metagraph with the newest event.\n",
      "W1219 18:13:02.435607 140130546358016 plugin_event_accumulator.py:294] Found more than one graph event per run, or there was a metagraph containing a graph_def, as well as one or more graph events.  Overwriting the graph with the newest event.\n",
      "W1219 18:13:02.442252 140130546358016 plugin_event_accumulator.py:302] Found more than one metagraph event per run. Overwriting the metagraph with the newest event.\n",
      "W1219 18:13:02.453855 140130546358016 plugin_event_accumulator.py:294] Found more than one graph event per run, or there was a metagraph containing a graph_def, as well as one or more graph events.  Overwriting the graph with the newest event.\n",
      "W1219 18:13:02.461481 140130546358016 plugin_event_accumulator.py:302] Found more than one metagraph event per run. Overwriting the metagraph with the newest event.\n",
      "W1219 18:13:02.479055 140130546358016 plugin_event_accumulator.py:294] Found more than one graph event per run, or there was a metagraph containing a graph_def, as well as one or more graph events.  Overwriting the graph with the newest event.\n",
      "W1219 18:13:02.485537 140130546358016 plugin_event_accumulator.py:302] Found more than one metagraph event per run. Overwriting the metagraph with the newest event.\n",
      "W1219 18:13:02.497189 140130546358016 plugin_event_accumulator.py:294] Found more than one graph event per run, or there was a metagraph containing a graph_def, as well as one or more graph events.  Overwriting the graph with the newest event.\n",
      "W1219 18:13:02.504913 140130546358016 plugin_event_accumulator.py:302] Found more than one metagraph event per run. Overwriting the metagraph with the newest event.\n",
      "W1219 18:13:02.522357 140130546358016 plugin_event_accumulator.py:294] Found more than one graph event per run, or there was a metagraph containing a graph_def, as well as one or more graph events.  Overwriting the graph with the newest event.\n",
      "W1219 18:13:02.533140 140130546358016 plugin_event_accumulator.py:302] Found more than one metagraph event per run. Overwriting the metagraph with the newest event.\n",
      "W1219 18:13:02.545012 140130546358016 plugin_event_accumulator.py:294] Found more than one graph event per run, or there was a metagraph containing a graph_def, as well as one or more graph events.  Overwriting the graph with the newest event.\n",
      "W1219 18:13:02.552315 140130546358016 plugin_event_accumulator.py:302] Found more than one metagraph event per run. Overwriting the metagraph with the newest event.\n",
      "W1219 18:13:02.571121 140130546358016 plugin_event_accumulator.py:294] Found more than one graph event per run, or there was a metagraph containing a graph_def, as well as one or more graph events.  Overwriting the graph with the newest event.\n",
      "W1219 18:13:02.578120 140130546358016 plugin_event_accumulator.py:302] Found more than one metagraph event per run. Overwriting the metagraph with the newest event.\n",
      "W1219 18:13:02.588489 140130546358016 plugin_event_accumulator.py:294] Found more than one graph event per run, or there was a metagraph containing a graph_def, as well as one or more graph events.  Overwriting the graph with the newest event.\n",
      "W1219 18:13:02.610119 140130546358016 plugin_event_accumulator.py:294] Found more than one graph event per run, or there was a metagraph containing a graph_def, as well as one or more graph events.  Overwriting the graph with the newest event.\n",
      "W1219 18:13:02.617196 140130546358016 plugin_event_accumulator.py:302] Found more than one metagraph event per run. Overwriting the metagraph with the newest event.\n",
      "W1219 18:13:02.628178 140130546358016 plugin_event_accumulator.py:294] Found more than one graph event per run, or there was a metagraph containing a graph_def, as well as one or more graph events.  Overwriting the graph with the newest event.\n",
      "W1219 18:13:02.680401 140130546358016 plugin_event_accumulator.py:294] Found more than one graph event per run, or there was a metagraph containing a graph_def, as well as one or more graph events.  Overwriting the graph with the newest event.\n",
      "W1219 18:13:02.697294 140130546358016 plugin_event_accumulator.py:302] Found more than one metagraph event per run. Overwriting the metagraph with the newest event.\n",
      "W1219 18:13:02.707585 140130546358016 plugin_event_accumulator.py:294] Found more than one graph event per run, or there was a metagraph containing a graph_def, as well as one or more graph events.  Overwriting the graph with the newest event.\n",
      "W1219 18:13:02.717499 140130546358016 plugin_event_accumulator.py:302] Found more than one metagraph event per run. Overwriting the metagraph with the newest event.\n",
      "I1219 18:13:14.010728 140130537965312 _internal.py:122] ::1 - - [19/Dec/2019 18:13:14] \"\u001b[37mGET / HTTP/1.1\u001b[0m\" 200 -\n",
      "I1219 18:13:15.440973 140130529572608 _internal.py:122] ::1 - - [19/Dec/2019 18:13:15] \"\u001b[37mGET /font-roboto/oMMgfZMQthOryQo9n22dcuvvDin1pK8aKteLpeZ5c0A.woff2 HTTP/1.1\u001b[0m\" 200 -\n",
      "I1219 18:13:16.296285 140130529572608 _internal.py:122] ::1 - - [19/Dec/2019 18:13:16] \"\u001b[37mGET /data/environment HTTP/1.1\u001b[0m\" 200 -\n",
      "I1219 18:13:16.322546 140130537965312 _internal.py:122] ::1 - - [19/Dec/2019 18:13:16] \"\u001b[37mGET /data/plugins_listing HTTP/1.1\u001b[0m\" 200 -\n",
      "I1219 18:13:16.408687 140130513819392 _internal.py:122] ::1 - - [19/Dec/2019 18:13:16] \"\u001b[37mGET /data/runs HTTP/1.1\u001b[0m\" 200 -\n",
      "I1219 18:13:16.417232 140130287351552 _internal.py:122] ::1 - - [19/Dec/2019 18:13:16] \"\u001b[37mGET /data/experiments HTTP/1.1\u001b[0m\" 200 -\n",
      "I1219 18:13:16.430250 140130529572608 _internal.py:122] ::1 - - [19/Dec/2019 18:13:16] \"\u001b[37mGET /data/environment HTTP/1.1\u001b[0m\" 200 -\n",
      "I1219 18:13:16.458037 140130537965312 _internal.py:122] ::1 - - [19/Dec/2019 18:13:16] \"\u001b[37mGET /data/plugins_listing HTTP/1.1\u001b[0m\" 200 -\n",
      "I1219 18:13:16.459641 140130124125952 _internal.py:122] ::1 - - [19/Dec/2019 18:13:16] \"\u001b[37mGET /font-roboto/RxZJdnzeo3R5zSexge8UUZBw1xU1rKptJj_0jans920.woff2 HTTP/1.1\u001b[0m\" 200 -\n",
      "I1219 18:13:16.550866 140130287351552 _internal.py:122] ::1 - - [19/Dec/2019 18:13:16] \"\u001b[37mGET /data/runs HTTP/1.1\u001b[0m\" 200 -\n",
      "I1219 18:13:16.566358 140130529572608 _internal.py:122] ::1 - - [19/Dec/2019 18:13:16] \"\u001b[37mGET /data/experiments HTTP/1.1\u001b[0m\" 200 -\n",
      "I1219 18:13:16.977136 140130529572608 _internal.py:122] ::1 - - [19/Dec/2019 18:13:16] \"\u001b[37mGET /data/plugin/scalars/tags HTTP/1.1\u001b[0m\" 200 -\n",
      "I1219 18:13:17.002668 140130287351552 _internal.py:122] ::1 - - [19/Dec/2019 18:13:17] \"\u001b[37mGET /font-roboto/d-6IYplOFocCacKzxwXSOJBw1xU1rKptJj_0jans920.woff2 HTTP/1.1\u001b[0m\" 200 -\n",
      "I1219 18:13:17.124908 140130529572608 _internal.py:122] ::1 - - [19/Dec/2019 18:13:17] \"\u001b[37mGET /data/plugin/scalars/tags HTTP/1.1\u001b[0m\" 200 -\n",
      "I1219 18:13:17.628834 140130287351552 _internal.py:122] ::1 - - [19/Dec/2019 18:13:17] \"\u001b[37mGET /data/plugin/scalars/scalars?tag=DetectionBoxes_Precision%2FmAP+%28large%29&run=eval_0&experiment= HTTP/1.1\u001b[0m\" 200 -\n",
      "I1219 18:13:17.629855 140130124125952 _internal.py:122] ::1 - - [19/Dec/2019 18:13:17] \"\u001b[37mGET /data/plugin/scalars/scalars?tag=DetectionBoxes_Precision%2FmAP+%28medium%29&run=eval_0&experiment= HTTP/1.1\u001b[0m\" 200 -\n",
      "I1219 18:13:17.630867 140130529572608 _internal.py:122] ::1 - - [19/Dec/2019 18:13:17] \"\u001b[37mGET /data/plugin/scalars/scalars?tag=DetectionBoxes_Precision%2FmAP&run=eval_0&experiment= HTTP/1.1\u001b[0m\" 200 -\n",
      "I1219 18:13:17.632415 140130513819392 _internal.py:122] ::1 - - [19/Dec/2019 18:13:17] \"\u001b[37mGET /data/plugin/scalars/scalars?tag=DetectionBoxes_Precision%2FmAP%40.50IOU&run=eval_0&experiment= HTTP/1.1\u001b[0m\" 200 -\n",
      "I1219 18:13:17.633118 140130537965312 _internal.py:122] ::1 - - [19/Dec/2019 18:13:17] \"\u001b[37mGET /data/plugin/scalars/scalars?tag=DetectionBoxes_Precision%2FmAP+%28small%29&run=eval_0&experiment= HTTP/1.1\u001b[0m\" 200 -\n",
      "I1219 18:13:17.847398 140130505426688 _internal.py:122] ::1 - - [19/Dec/2019 18:13:17] \"\u001b[37mGET /data/plugin/scalars/scalars?tag=DetectionBoxes_Precision%2FmAP%40.75IOU&run=eval_0&experiment= HTTP/1.1\u001b[0m\" 200 -\n",
      "I1219 18:13:17.864595 140130529572608 _internal.py:122] ::1 - - [19/Dec/2019 18:13:17] \"\u001b[37mGET /data/plugin/scalars/scalars?tag=DetectionBoxes_Recall%2FAR%401&run=eval_0&experiment= HTTP/1.1\u001b[0m\" 200 -\n",
      "I1219 18:13:17.864983 140130287351552 _internal.py:122] ::1 - - [19/Dec/2019 18:13:17] \"\u001b[37mGET /data/plugin/scalars/scalars?tag=DetectionBoxes_Recall%2FAR%4010&run=eval_0&experiment= HTTP/1.1\u001b[0m\" 200 -\n",
      "I1219 18:13:17.866823 140130513819392 _internal.py:122] ::1 - - [19/Dec/2019 18:13:17] \"\u001b[37mGET /data/plugin/scalars/scalars?tag=DetectionBoxes_Recall%2FAR%40100&run=eval_0&experiment= HTTP/1.1\u001b[0m\" 200 -\n",
      "I1219 18:13:17.868375 140130124125952 _internal.py:122] ::1 - - [19/Dec/2019 18:13:17] \"\u001b[37mGET /data/plugin/scalars/scalars?tag=DetectionBoxes_Recall%2FAR%40100+%28large%29&run=eval_0&experiment= HTTP/1.1\u001b[0m\" 200 -\n",
      "I1219 18:13:17.874829 140130537965312 _internal.py:122] ::1 - - [19/Dec/2019 18:13:17] \"\u001b[37mGET /data/plugin/scalars/scalars?tag=DetectionBoxes_Recall%2FAR%40100+%28medium%29&run=eval_0&experiment= HTTP/1.1\u001b[0m\" 200 -\n",
      "I1219 18:13:17.988969 140130505426688 _internal.py:122] ::1 - - [19/Dec/2019 18:13:17] \"\u001b[37mGET /data/plugin/scalars/scalars?tag=DetectionBoxes_Recall%2FAR%40100+%28small%29&run=eval_0&experiment= HTTP/1.1\u001b[0m\" 200 -\n",
      "I1219 18:13:17.992791 140130529572608 _internal.py:122] ::1 - - [19/Dec/2019 18:13:17] \"\u001b[37mGET /data/plugin/scalars/scalars?tag=DetectionBoxes_Precision%2FmAP&run=eval_0&experiment= HTTP/1.1\u001b[0m\" 200 -\n",
      "I1219 18:13:17.998579 140130287351552 _internal.py:122] ::1 - - [19/Dec/2019 18:13:17] \"\u001b[37mGET /data/plugin/scalars/scalars?tag=DetectionBoxes_Precision%2FmAP+%28large%29&run=eval_0&experiment= HTTP/1.1\u001b[0m\" 200 -\n",
      "I1219 18:13:18.020963 140130513819392 _internal.py:122] ::1 - - [19/Dec/2019 18:13:18] \"\u001b[37mGET /data/plugin/scalars/scalars?tag=DetectionBoxes_Precision%2FmAP%40.50IOU&run=eval_0&experiment= HTTP/1.1\u001b[0m\" 200 -\n",
      "I1219 18:13:18.022001 140130124125952 _internal.py:122] ::1 - - [19/Dec/2019 18:13:18] \"\u001b[37mGET /data/plugin/scalars/scalars?tag=DetectionBoxes_Precision%2FmAP+%28medium%29&run=eval_0&experiment= HTTP/1.1\u001b[0m\" 200 -\n",
      "I1219 18:13:18.023365 140130537965312 _internal.py:122] ::1 - - [19/Dec/2019 18:13:18] \"\u001b[37mGET /data/plugin/scalars/scalars?tag=DetectionBoxes_Precision%2FmAP+%28small%29&run=eval_0&experiment= HTTP/1.1\u001b[0m\" 200 -\n",
      "I1219 18:13:18.114900 140130529572608 _internal.py:122] ::1 - - [19/Dec/2019 18:13:18] \"\u001b[37mGET /data/plugin/scalars/scalars?tag=DetectionBoxes_Recall%2FAR%401&run=eval_0&experiment= HTTP/1.1\u001b[0m\" 200 -\n",
      "I1219 18:13:18.116165 140130505426688 _internal.py:122] ::1 - - [19/Dec/2019 18:13:18] \"\u001b[37mGET /data/plugin/scalars/scalars?tag=DetectionBoxes_Precision%2FmAP%40.75IOU&run=eval_0&experiment= HTTP/1.1\u001b[0m\" 200 -\n",
      "I1219 18:13:18.119251 140130287351552 _internal.py:122] ::1 - - [19/Dec/2019 18:13:18] \"\u001b[37mGET /data/plugin/scalars/scalars?tag=DetectionBoxes_Recall%2FAR%4010&run=eval_0&experiment= HTTP/1.1\u001b[0m\" 200 -\n",
      "I1219 18:13:18.141144 140130513819392 _internal.py:122] ::1 - - [19/Dec/2019 18:13:18] \"\u001b[37mGET /data/plugin/scalars/scalars?tag=DetectionBoxes_Recall%2FAR%40100&run=eval_0&experiment= HTTP/1.1\u001b[0m\" 200 -\n",
      "I1219 18:13:18.141608 140130124125952 _internal.py:122] ::1 - - [19/Dec/2019 18:13:18] \"\u001b[37mGET /data/plugin/scalars/scalars?tag=DetectionBoxes_Recall%2FAR%40100+%28large%29&run=eval_0&experiment= HTTP/1.1\u001b[0m\" 200 -\n",
      "I1219 18:13:18.142562 140130537965312 _internal.py:122] ::1 - - [19/Dec/2019 18:13:18] \"\u001b[37mGET /data/plugin/scalars/scalars?tag=DetectionBoxes_Recall%2FAR%40100+%28medium%29&run=eval_0&experiment= HTTP/1.1\u001b[0m\" 200 -\n",
      "I1219 18:13:18.238038 140130529572608 _internal.py:122] ::1 - - [19/Dec/2019 18:13:18] \"\u001b[37mGET /data/plugin/scalars/scalars?tag=DetectionBoxes_Recall%2FAR%40100+%28small%29&run=eval_0&experiment= HTTP/1.1\u001b[0m\" 200 -\n",
      "^C\n"
     ]
    }
   ],
   "source": [
    "!tensorboard --port=6006 --logdir=training-ssd/"
   ]
  },
  {
   "cell_type": "code",
   "execution_count": 1,
   "metadata": {},
   "outputs": [
    {
     "name": "stdout",
     "output_type": "stream",
     "text": [
      "^C\r\n"
     ]
    }
   ],
   "source": [
    "!nvidia-smi"
   ]
  },
  {
   "cell_type": "code",
   "execution_count": 1,
   "metadata": {},
   "outputs": [
    {
     "name": "stdout",
     "output_type": "stream",
     "text": [
      "              total        used        free      shared  buff/cache   available\r\n",
      "Mem:          60401       47387        9979          12        3034       12393\r\n",
      "Swap:             0           0           0\r\n"
     ]
    }
   ],
   "source": [
    "!free -m"
   ]
  },
  {
   "cell_type": "code",
   "execution_count": null,
   "metadata": {},
   "outputs": [],
   "source": []
  },
  {
   "cell_type": "code",
   "execution_count": null,
   "metadata": {},
   "outputs": [],
   "source": []
  }
 ],
 "metadata": {
  "kernelspec": {
   "display_name": "Python 3",
   "language": "python",
   "name": "python3"
  },
  "language_info": {
   "codemirror_mode": {
    "name": "ipython",
    "version": 3
   },
   "file_extension": ".py",
   "mimetype": "text/x-python",
   "name": "python",
   "nbconvert_exporter": "python",
   "pygments_lexer": "ipython3",
   "version": "3.5.3"
  }
 },
 "nbformat": 4,
 "nbformat_minor": 2
}
